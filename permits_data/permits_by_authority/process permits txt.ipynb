{
 "cells": [
  {
   "cell_type": "code",
   "execution_count": 1,
   "metadata": {},
   "outputs": [],
   "source": [
    "import pandas as pd\n",
    "import numpy as np\n",
    "from tqdm import tqdm"
   ]
  },
  {
   "cell_type": "code",
   "execution_count": 2,
   "metadata": {},
   "outputs": [],
   "source": [
    "file = open('CA 2019 Permits.txt','r')\n",
    "\n",
    "text_data = [x.split('\\t') for x in file.read().split('\\n') if x!='Note: i = Imputed Value  ']"
   ]
  },
  {
   "cell_type": "code",
   "execution_count": 4,
   "metadata": {},
   "outputs": [],
   "source": [
    "list_of_permit_authorities = []\n",
    "for n,line in enumerate(text_data):\n",
    "    if n%26==0:\n",
    "        list_of_permit_authorities.append(line[0] + f'|{text_data[n+1][0]}')\n",
    "\n",
    "single_family = []\n",
    "for n,line in enumerate(text_data):\n",
    "    if (n-19)%26==0:\n",
    "        single_family.append(line)\n",
    "\n",
    "multi_family = []\n",
    "for n,line in enumerate(text_data):\n",
    "    if (n-20)%26==0:\n",
    "        multi_family.append(line)\n",
    "\n",
    "two_unit = []\n",
    "for n,line in enumerate(text_data):\n",
    "    if (n-21)%26==0:\n",
    "        two_unit.append(line)\n",
    "        \n",
    "three_unit = []\n",
    "for n,line in enumerate(text_data):\n",
    "    if (n-22)%26==0:\n",
    "        three_unit.append(line)\n",
    "        \n",
    "five_unit = []\n",
    "for n,line in enumerate(text_data):\n",
    "    if (n-23)%26==0:\n",
    "        five_unit.append(line)\n",
    "        \n",
    "        \n",
    "dict_of_permit_authorities = {xs:{} for xs in list_of_permit_authorities}"
   ]
  },
  {
   "cell_type": "code",
   "execution_count": 6,
   "metadata": {},
   "outputs": [],
   "source": [
    "months = ['Jan','Feb','Mar','Apr','May','Jun','Jul','Aug','Sep','Oct','Nov','Dec','Total']\n",
    "for n,x in enumerate(single_family):\n",
    "    key = list(dict_of_permit_authorities.keys())[n]\n",
    "    \n",
    "    permit_months = {month:x[1:][n] for n,month in enumerate(months)}\n",
    "    dict_of_permit_authorities[key][x[0]] = permit_months\n",
    "    \n",
    "for n,x in enumerate(multi_family):\n",
    "    key = list(dict_of_permit_authorities.keys())[n]\n",
    "    \n",
    "    permit_months = {month:x[1:][n] for n,month in enumerate(months)}\n",
    "    dict_of_permit_authorities[key][x[0]] = permit_months \n",
    "    \n",
    "for n,x in enumerate(two_unit):\n",
    "    key = list(dict_of_permit_authorities.keys())[n]\n",
    "    \n",
    "    permit_months = {month:x[1:][n] for n,month in enumerate(months)}\n",
    "    dict_of_permit_authorities[key][x[0]] = permit_months\n",
    "    \n",
    "for n,x in enumerate(three_unit):\n",
    "    key = list(dict_of_permit_authorities.keys())[n]\n",
    "    \n",
    "    permit_months = {month:x[1:][n] for n,month in enumerate(months)}\n",
    "    dict_of_permit_authorities[key][x[0]] = permit_months\n",
    "    \n",
    "for n,x in enumerate(five_unit):\n",
    "    key = list(dict_of_permit_authorities.keys())[n]\n",
    "    \n",
    "    permit_months = {month:x[1:][n] for n,month in enumerate(months)}\n",
    "    dict_of_permit_authorities[key][x[0]] = permit_months"
   ]
  },
  {
   "cell_type": "code",
   "execution_count": 23,
   "metadata": {},
   "outputs": [
    {
     "name": "stderr",
     "output_type": "stream",
     "text": [
      "100%|████████████████████████████████████████████████████████████████████████████████| 470/470 [00:05<00:00, 83.12it/s]\n"
     ]
    }
   ],
   "source": [
    "ret_df = pd.DataFrame(columns = ['Permit Authority', 'County', 'Month', 'Year', 'Permit Type', '# of Permits'])\n",
    "\n",
    "permit_types = ['Units in Single-Family Structures',\n",
    "                'Units in All Multi-Family Structures',\n",
    "                'Units in 2-unit Multi-Family Structures',\n",
    "                'Units in 3- and 4-unit Multi-Family Structures',\n",
    "                'Units in 5+ Unit Multi-Family Structures',\n",
    "               ]\n",
    "\n",
    "for authority in tqdm(dict_of_permit_authorities):\n",
    "    permit_authority = authority.split('|')[0]\n",
    "    county = authority.split('|')[1]\n",
    "    for permit_type in permit_types:\n",
    "        concat_df = pd.DataFrame(index = range(13), columns = ['Permit Authority', 'County', 'Month', 'Year', 'Permit Type', '# of Permits'])\n",
    "\n",
    "        for n,month in enumerate(months):\n",
    "            permits = dict_of_permit_authorities[authority][permit_type][month]\n",
    "            concat_df.loc[n] = [permit_authority, county, month, 2019, permit_type, permits]\n",
    "            \n",
    "        ret_df = pd.concat([ret_df, concat_df])\n",
    "\n",
    "ret_df.reset_index(drop=True, inplace=True)\n",
    "            "
   ]
  },
  {
   "cell_type": "code",
   "execution_count": 24,
   "metadata": {},
   "outputs": [],
   "source": [
    "#ret_df.to_csv('2019_test.csv',index=False)"
   ]
  },
  {
   "cell_type": "markdown",
   "metadata": {},
   "source": [
    "# Check cities with Charters"
   ]
  },
  {
   "cell_type": "code",
   "execution_count": 23,
   "metadata": {},
   "outputs": [],
   "source": [
    "permits_by_authority = pd.read_csv('permits_by_permitting_authority.csv')\n",
    "\n",
    "file = open('city_charters/California Charter Cities.txt','r')\n",
    "charter_cities = file.read().split('\\n')\n",
    "file.close()"
   ]
  },
  {
   "cell_type": "code",
   "execution_count": 24,
   "metadata": {},
   "outputs": [],
   "source": [
    "charter_cities_df = pd.DataFrame([(city.upper() + ', CA','charter') for city in charter_cities], \n",
    "                                 columns=[\"Permit Authority\", \"city form\"]\n",
    "                                )"
   ]
  },
  {
   "cell_type": "code",
   "execution_count": 25,
   "metadata": {},
   "outputs": [],
   "source": [
    "xx = permits_by_authority\\\n",
    "    .merge(charter_cities_df, on='Permit Authority', how='left')\\\n",
    "\n",
    "xx['city form'] = xx['city form'].fillna('general law')\n",
    "\n",
    "xx['city form'] = [form if 'UNINCORPORATED' not in authority else 'county' for form,authority in zip(xx['city form'],xx['Permit Authority'])]"
   ]
  },
  {
   "cell_type": "code",
   "execution_count": 26,
   "metadata": {},
   "outputs": [
    {
     "data": {
      "text/plain": [
       "{'EUREKA, CA', 'FORTUNA, CA', 'GRASS VALLEY, CA', 'TRUCKEE, CA', 'VENTURA, CA'}"
      ]
     },
     "execution_count": 26,
     "metadata": {},
     "output_type": "execute_result"
    }
   ],
   "source": [
    "(set([city.upper() + ', CA' for city in charter_cities])-set(xx[xx['city form']=='charter']['Permit Authority']))"
   ]
  },
  {
   "cell_type": "code",
   "execution_count": 27,
   "metadata": {},
   "outputs": [],
   "source": [
    "xx.to_csv('permits_by_permitting_authority_city_form.csv', index=False)"
   ]
  },
  {
   "cell_type": "code",
   "execution_count": null,
   "metadata": {},
   "outputs": [],
   "source": []
  }
 ],
 "metadata": {
  "kernelspec": {
   "display_name": "Python 3",
   "language": "python",
   "name": "python3"
  },
  "language_info": {
   "codemirror_mode": {
    "name": "ipython",
    "version": 3
   },
   "file_extension": ".py",
   "mimetype": "text/x-python",
   "name": "python",
   "nbconvert_exporter": "python",
   "pygments_lexer": "ipython3",
   "version": "3.8.5"
  }
 },
 "nbformat": 4,
 "nbformat_minor": 4
}
